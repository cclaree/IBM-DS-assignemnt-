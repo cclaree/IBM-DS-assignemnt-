{
  "metadata": {
    "kernelspec": {
      "name": "python",
      "display_name": "Pyolite",
      "language": "python"
    },
    "language_info": {
      "codemirror_mode": {
        "name": "python",
        "version": 3
      },
      "file_extension": ".py",
      "mimetype": "text/x-python",
      "name": "python",
      "nbconvert_exporter": "python",
      "pygments_lexer": "ipython3",
      "version": "3.8"
    }
  },
  "nbformat_minor": 4,
  "nbformat": 4,
  "cells": [
    {
      "cell_type": "markdown",
      "source": "<center>\n    <img src=\"https://s3-api.us-geo.objectstorage.softlayer.net/cf-courses-data/CognitiveClass/Logos/organization_logo/organization_logo.png\" width=\"300\" alt=\"cognitiveclass.ai logo\"  />\n</center>\n",
      "metadata": {}
    },
    {
      "cell_type": "markdown",
      "source": "#### Add your code below following the instructions given in the course\n",
      "metadata": {}
    },
    {
      "cell_type": "markdown",
      "source": "# My Jupyter Notebook on IBM Watson Studio",
      "metadata": {}
    },
    {
      "cell_type": "markdown",
      "source": "__Name:Clare__\n\nI want to become a data scientist in finance industry",
      "metadata": {}
    },
    {
      "cell_type": "markdown",
      "source": "I am interested in data science because I want to change my career path, to earn more money, and I do beleive it is one of the future trends. \n",
      "metadata": {}
    },
    {
      "cell_type": "markdown",
      "source": "### create a np array with zeros",
      "metadata": {}
    },
    {
      "cell_type": "code",
      "source": "import numpy as np\nnp.zeros((2,3,2))",
      "metadata": {
        "trusted": true
      },
      "execution_count": 8,
      "outputs": [
        {
          "execution_count": 8,
          "output_type": "execute_result",
          "data": {
            "text/plain": "array([[[0., 0.],\n        [0., 0.],\n        [0., 0.]],\n\n       [[0., 0.],\n        [0., 0.],\n        [0., 0.]]])"
          },
          "metadata": {}
        }
      ]
    },
    {
      "cell_type": "markdown",
      "source": "__Horizontal rule__\n\n---\n\ntest horizontal rule\n\n__Bulleted and numbered list__\n\n1. Item 1\n* Unordered list can use asterisks\n- Or minuses\n+ Or pluses\n\n__Hyperlink__\n[For more can check this as references](https://github.com/adam-p/markdown-here/wiki/Markdown-Cheatsheet#lists)",
      "metadata": {
        "tags": []
      }
    },
    {
      "cell_type": "code",
      "source": "",
      "metadata": {},
      "execution_count": null,
      "outputs": []
    }
  ]
}